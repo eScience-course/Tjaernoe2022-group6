{
 "cells": [
  {
   "cell_type": "code",
   "execution_count": 1,
   "id": "b9a45283-d7c9-4a71-8614-f50a5df6bdd2",
   "metadata": {},
   "outputs": [],
   "source": [
    "##module to get timeseries of the regional average of a variable"
   ]
  },
  {
   "cell_type": "code",
   "execution_count": 1,
   "id": "2662e831-967c-42f4-9fd6-27ad0f6e2a99",
   "metadata": {},
   "outputs": [],
   "source": [
    "import modules as md \n",
    "import xarray as xr\n",
    "xr.set_options(display_style='html')\n",
    "import intake\n",
    "import cftime\n",
    "import numpy as np\n",
    "import matplotlib.pyplot as plt\n",
    "import cartopy.crs as ccrs\n",
    "import s3fs\n",
    "%matplotlib inline"
   ]
  },
  {
   "cell_type": "raw",
   "id": "8d98d119-6ca7-42c4-89cf-7176258bc6f7",
   "metadata": {},
   "source": [
    "## Types of data to be used\n",
    "\n",
    "Model: \n",
    "\n",
    "sea ice: \n",
    "\n",
    "Chlorophyll mass concentration: S3:escience2022/Ada/monthly/chlos_Omon_NorESM2-LM_historical_r1i1p1f1_gn_*.nc\n",
    "\n",
    "DMS ocean surface: S3:escience2022/Ada/monthly/dmsos_Omon_NorESM2-LM_historical_r1i1p1f1_gn_*.nc\n",
    "\n",
    "DMS emission: S3:escience2022/Ada/monthly/emidms_AERmon_NorESM2-LM_historical_r1i1p1f1_gn_*.nc\n",
    "\n",
    "mixed_layer: S3:escience2022/Ada/monthly/mlotstmax_Omon_NorESM2-LM_historical_r1i1p1f1_gn_*.nc\n",
    "\n",
    "rsntds: S3:escience2022/Ada/monthly/rsntds_Omon_NorESM2-LM_historical_r1i1p1f1_gn_*.nc\n",
    "\n",
    "sea ice concentration: S3:escience2022/Ada/monthly/siconc_SImon_NorESM2-LM_historical_r1i1p1f1_gn_*.nc\n",
    "\n",
    "temperature of surface: S3:escience2022/Ada/monthly/tos_Omon_NorESM2-LM_historical_r1i1p1f1_gn_*.nc\n",
    "\n",
    "zoocos: S3:escience2022/Ada/monthly/zoocos_Omon_NorESM2-LM_historical_r1i1p1f1_gr_*.nc\n",
    "\n",
    "zooc: S3:escience2022/Ada/monthly/zooc_Omon_NorESM2-LM_historical_r1i1p1f1_gr_*.nc\n"
   ]
  },
  {
   "cell_type": "code",
   "execution_count": 2,
   "id": "7519805a-f3f4-4594-acfd-ef0cbe34a19b",
   "metadata": {},
   "outputs": [],
   "source": [
    "## Chlorophyll and zooplankton"
   ]
  },
  {
   "cell_type": "code",
   "execution_count": null,
   "id": "b565fb79-7f13-4a24-a2d4-d07029f7c7ea",
   "metadata": {},
   "outputs": [
    {
     "name": "stdout",
     "output_type": "stream",
     "text": [
      "\n",
      "--> The keys in the returned dictionary of datasets are constructed as follows:\n",
      "\t'activity_id.institution_id.source_id.experiment_id.table_id.grid_label'\n"
     ]
    },
    {
     "data": {
      "text/html": [
       "\n",
       "<style>\n",
       "    /* Turns off some styling */\n",
       "    progress {\n",
       "        /* gets rid of default border in Firefox and Opera. */\n",
       "        border: none;\n",
       "        /* Needs to be in here for Safari polyfill so background images work as expected. */\n",
       "        background-size: auto;\n",
       "    }\n",
       "    progress:not([value]), progress:not([value])::-webkit-progress-bar {\n",
       "        background: repeating-linear-gradient(45deg, #7e7e7e, #7e7e7e 10px, #5c5c5c 10px, #5c5c5c 20px);\n",
       "    }\n",
       "    .progress-bar-interrupted, .progress-bar-interrupted::-webkit-progress-bar {\n",
       "        background: #F44336;\n",
       "    }\n",
       "</style>\n"
      ],
      "text/plain": [
       "<IPython.core.display.HTML object>"
      ]
     },
     "metadata": {},
     "output_type": "display_data"
    },
    {
     "data": {
      "text/html": [
       "\n",
       "    <div>\n",
       "      <progress value='1' class='' max='1' style='width:300px; height:20px; vertical-align: middle;'></progress>\n",
       "      100.00% [1/1 00:00&lt;00:00]\n",
       "    </div>\n",
       "    "
      ],
      "text/plain": [
       "<IPython.core.display.HTML object>"
      ]
     },
     "metadata": {},
     "output_type": "display_data"
    },
    {
     "name": "stdout",
     "output_type": "stream",
     "text": [
      "\n",
      "--> The keys in the returned dictionary of datasets are constructed as follows:\n",
      "\t'activity_id.institution_id.source_id.experiment_id.table_id.grid_label'\n"
     ]
    },
    {
     "data": {
      "text/html": [
       "\n",
       "<style>\n",
       "    /* Turns off some styling */\n",
       "    progress {\n",
       "        /* gets rid of default border in Firefox and Opera. */\n",
       "        border: none;\n",
       "        /* Needs to be in here for Safari polyfill so background images work as expected. */\n",
       "        background-size: auto;\n",
       "    }\n",
       "    progress:not([value]), progress:not([value])::-webkit-progress-bar {\n",
       "        background: repeating-linear-gradient(45deg, #7e7e7e, #7e7e7e 10px, #5c5c5c 10px, #5c5c5c 20px);\n",
       "    }\n",
       "    .progress-bar-interrupted, .progress-bar-interrupted::-webkit-progress-bar {\n",
       "        background: #F44336;\n",
       "    }\n",
       "</style>\n"
      ],
      "text/plain": [
       "<IPython.core.display.HTML object>"
      ]
     },
     "metadata": {},
     "output_type": "display_data"
    },
    {
     "data": {
      "text/html": [
       "\n",
       "    <div>\n",
       "      <progress value='1' class='' max='1' style='width:300px; height:20px; vertical-align: middle;'></progress>\n",
       "      100.00% [1/1 00:00&lt;00:00]\n",
       "    </div>\n",
       "    "
      ],
      "text/plain": [
       "<IPython.core.display.HTML object>"
      ]
     },
     "metadata": {},
     "output_type": "display_data"
    }
   ],
   "source": [
    "min_lat= 65.9\n",
    "max_lat= 81.9\n",
    "min_lon= 16.6\n",
    "max_lon= 68.6\n",
    "var1='chlos'\n",
    "var2='zooc'\n",
    "cel_type='areacello'\n",
    "model= 'NorESM2-LM'\n",
    "\n",
    "files_dir1='/escience2022/Ada/monthly/chlos_Omon_NorESM2-LM_historical_r1i1p1f1_gn_*.nc'\n",
    "files_dir2='/escience2022/Ada/monthly/zooc_Omon_NorESM2-LM_historical_r1i1p1f1_gr_*.nc'\n",
    "\n",
    "inp_chlos=[files_dir1,model,min_lat,max_lat,min_lon,max_lon,var1,cel_type]\n",
    "inp_zoo=[files_dir2,model,min_lat,max_lat,min_lon,max_lon,var2,cel_type]\n",
    "\n",
    "\n",
    "BSchlos=md.regional_average(inp_chlos)\n",
    "BSzoo=md.regional_average(inp_zoo)\n",
    "\n",
    "fig=plt.figure()\n",
    "ax=fig.add_subplot()\n",
    "\n",
    "BSchlos.plot(x='year',ax=ax,color='tab:blue',label='Cholorophyll')\n",
    "ax1= ax.twinx()\n",
    "BSzoo.plot(x='year',ax=ax1,color='tab:orange',label='Zooplankton')\n",
    "\n",
    "plt.title('')\n",
    "plt.grid('True',alpha=0.6,linestyle='--')\n",
    "plt.xlabel('years',fontsize=12)\n",
    "ax.set_ylabel('Cholorophyll mass concentration ($kg/m^3$)',fontsize=9)\n",
    "ax1.set_ylabel('Zooplankton carbon concentration',fontsize=9)\n",
    "ax.legend(fontsize=12,loc=(0.4,0.8))\n",
    "ax1.legend(fontsize=12,loc=(0.4,0.7))\n",
    "plt.savefig('plots/chlos_and_zooplankton_timeseries.png',dpi=500)"
   ]
  },
  {
   "cell_type": "code",
   "execution_count": null,
   "id": "fc72ccf7-1d55-4ddb-bc9d-2a90b59be9cc",
   "metadata": {},
   "outputs": [],
   "source": [
    "## timeseries of DMS at Surface"
   ]
  },
  {
   "cell_type": "code",
   "execution_count": 2,
   "id": "e9b29720-fbb1-4ebf-86da-e98810561ac5",
   "metadata": {},
   "outputs": [
    {
     "name": "stdout",
     "output_type": "stream",
     "text": [
      "\n",
      "--> The keys in the returned dictionary of datasets are constructed as follows:\n",
      "\t'activity_id.institution_id.source_id.experiment_id.table_id.grid_label'\n"
     ]
    },
    {
     "data": {
      "text/html": [
       "\n",
       "<style>\n",
       "    /* Turns off some styling */\n",
       "    progress {\n",
       "        /* gets rid of default border in Firefox and Opera. */\n",
       "        border: none;\n",
       "        /* Needs to be in here for Safari polyfill so background images work as expected. */\n",
       "        background-size: auto;\n",
       "    }\n",
       "    progress:not([value]), progress:not([value])::-webkit-progress-bar {\n",
       "        background: repeating-linear-gradient(45deg, #7e7e7e, #7e7e7e 10px, #5c5c5c 10px, #5c5c5c 20px);\n",
       "    }\n",
       "    .progress-bar-interrupted, .progress-bar-interrupted::-webkit-progress-bar {\n",
       "        background: #F44336;\n",
       "    }\n",
       "</style>\n"
      ],
      "text/plain": [
       "<IPython.core.display.HTML object>"
      ]
     },
     "metadata": {},
     "output_type": "display_data"
    },
    {
     "data": {
      "text/html": [
       "\n",
       "    <div>\n",
       "      <progress value='1' class='' max='1' style='width:300px; height:20px; vertical-align: middle;'></progress>\n",
       "      100.00% [1/1 00:00&lt;00:00]\n",
       "    </div>\n",
       "    "
      ],
      "text/plain": [
       "<IPython.core.display.HTML object>"
      ]
     },
     "metadata": {},
     "output_type": "display_data"
    },
    {
     "data": {
      "image/png": "[encoded data removed]",
      "text/plain": [
       "<Figure size 640x480 with 1 Axes>"
      ]
     },
     "metadata": {},
     "output_type": "display_data"
    }
   ],
   "source": [
    "min_lat= 65.9\n",
    "max_lat= 81.9\n",
    "min_lon= 16.6\n",
    "max_lon= 68.6\n",
    "var='dmsos'\n",
    "cel_type='areacello'\n",
    "model= 'NorESM2-LM'\n",
    "\n",
    "files_dir='/escience2022/Ada/monthly/dmsos_Omon_NorESM2-LM_historical_r1i1p1f1_gn*.nc'\n",
    "\n",
    "inp_dms=[files_dir,model,min_lat,max_lat,min_lon,max_lon,var,cel_type]\n",
    "\n",
    "BSDMS=md.regional_average(inp_dms)\n",
    "\n",
    "BSDMS.plot(x='year')\n",
    "plt.title('')\n",
    "plt.grid('True',alpha=0.6,linestyle='--')\n",
    "plt.xlabel('years',fontsize=12)\n",
    "plt.ylabel('DMS at Ocean Surface',fontsize=12)\n",
    "#plt.savefig('plots/DMS_at_surface_timeseries.png',dpi=500)"
   ]
  },
  {
   "cell_type": "code",
   "execution_count": null,
   "id": "689cbf83-83c6-4821-ab84-f59e10c86d94",
   "metadata": {},
   "outputs": [],
   "source": [
    "## Sea ice and sea surface temperature"
   ]
  },
  {
   "cell_type": "code",
   "execution_count": null,
   "id": "82b2e2ac-1596-4289-8454-613f3d564c80",
   "metadata": {},
   "outputs": [
    {
     "name": "stdout",
     "output_type": "stream",
     "text": [
      "\n",
      "--> The keys in the returned dictionary of datasets are constructed as follows:\n",
      "\t'activity_id.institution_id.source_id.experiment_id.table_id.grid_label'\n"
     ]
    },
    {
     "data": {
      "text/html": [
       "\n",
       "<style>\n",
       "    /* Turns off some styling */\n",
       "    progress {\n",
       "        /* gets rid of default border in Firefox and Opera. */\n",
       "        border: none;\n",
       "        /* Needs to be in here for Safari polyfill so background images work as expected. */\n",
       "        background-size: auto;\n",
       "    }\n",
       "    progress:not([value]), progress:not([value])::-webkit-progress-bar {\n",
       "        background: repeating-linear-gradient(45deg, #7e7e7e, #7e7e7e 10px, #5c5c5c 10px, #5c5c5c 20px);\n",
       "    }\n",
       "    .progress-bar-interrupted, .progress-bar-interrupted::-webkit-progress-bar {\n",
       "        background: #F44336;\n",
       "    }\n",
       "</style>\n"
      ],
      "text/plain": [
       "<IPython.core.display.HTML object>"
      ]
     },
     "metadata": {},
     "output_type": "display_data"
    },
    {
     "data": {
      "text/html": [
       "\n",
       "    <div>\n",
       "      <progress value='1' class='' max='1' style='width:300px; height:20px; vertical-align: middle;'></progress>\n",
       "      100.00% [1/1 00:00&lt;00:00]\n",
       "    </div>\n",
       "    "
      ],
      "text/plain": [
       "<IPython.core.display.HTML object>"
      ]
     },
     "metadata": {},
     "output_type": "display_data"
    }
   ],
   "source": [
    "min_lat= 65.9\n",
    "max_lat= 81.9\n",
    "min_lon= 16.6\n",
    "max_lon= 68.6\n",
    "var_ice='siconc'\n",
    "var_temp='tos'\n",
    "cel_type='areacello'\n",
    "model= 'NorESM2-LM'\n",
    "\n",
    "files_dir='/escience2022/Ada/monthly/siconc_SImon_NorESM2-LM_historical_r1i1p1f1_gn*.nc'\n",
    "tos_dir='/escience2022/Ada/monthly/tos_Omon_NorESM2-LM_historical_r1i1p1f1_gn_*.nc'\n",
    "\n",
    "inp_ice=[files_dir,model,min_lat,max_lat,min_lon,max_lon,var_ice,cel_type]\n",
    "inp_tos= [tos_dir,model,min_lat,max_lat,min_lon,max_lon,var_temp,cel_type]\n",
    "\n",
    "BSice=md.regional_average(inp_ice)\n",
    "BStos=md.regional_average(inp_tos)\n",
    "\n",
    "fig=plt.figure()\n",
    "ax=fig.add_subplot()\n",
    "\n",
    "BSice.plot(x='year',ax=ax,color='tab:blue',label='Sea Ice')\n",
    "ax1= ax.twinx()\n",
    "BStos.plot(x='year',ax=ax1,color='tab:orange',label='SST')\n",
    "\n",
    "plt.title('')\n",
    "plt.grid('True',alpha=0.6,linestyle='--')\n",
    "plt.xlabel('years',fontsize=12)\n",
    "ax.set_ylabel('Sea Ice ',fontsize=12)\n",
    "ax1.set_ylabel('Sea surface temperature ($^\\circ$C)',fontsize=12)\n",
    "ax.legend(fontsize=10,loc=(0.4,0.9))\n",
    "ax1.legend(fontsize=10,loc=(0.4,0.8))\n",
    "plt.savefig('plots/sea_ice_temperature_timeseries.png',dpi=500)"
   ]
  },
  {
   "cell_type": "code",
   "execution_count": null,
   "id": "a13edb7c-936c-4f20-95d6-fd3eb6d6813e",
   "metadata": {},
   "outputs": [],
   "source": [
    "#zooplankton surface and zooplankton"
   ]
  },
  {
   "cell_type": "code",
   "execution_count": null,
   "id": "921b9502-f892-4f8c-babd-e32f3222c0e5",
   "metadata": {},
   "outputs": [],
   "source": [
    "min_lat= 65.9\n",
    "max_lat= 81.9\n",
    "min_lon= 16.6\n",
    "max_lon= 68.6\n",
    "var1='zoocos'\n",
    "var2='zooc'\n",
    "cel_type='areacello'\n",
    "model= 'NorESM2-LM'\n",
    "\n",
    "files_dir1='/escience2022/Ada/monthly/zoocos_Omon_NorESM2-LM_historical_r1i1p1f1_gr*.nc'\n",
    "files_dir2='/escience2022/Ada/monthly/zooc_Omon_NorESM2-LM_historical_r1i1p1f1_gr_*.nc'\n",
    "\n",
    "inp_zoocos=[files_dir1,model,min_lat,max_lat,min_lon,max_lon,var1,cel_type]\n",
    "inp_zooc=[files_dir2,model,min_lat,max_lat,min_lon,max_lon,var2,cel_type]\n",
    "\n",
    "\n",
    "BSzoocos=md.regional_average(inp_zoocos)\n",
    "BSzoo=md.regional_average(inp_zooc)\n",
    "\n",
    "fig=plt.figure()\n",
    "ax=fig.add_subplot()\n",
    "\n",
    "BSzoocos.plot(x='year',ax=ax,color='tab:blue',label='Surface Zooplankton')\n",
    "ax1= ax.twinx()\n",
    "BSzoo.plot(x='year',ax=ax1,color='tab:orange',label='Zooplankton')\n",
    "\n",
    "plt.title('')\n",
    "plt.grid('True',alpha=0.6,linestyle='--')\n",
    "plt.xlabel('years',fontsize=12)\n",
    "ax.set_ylabel('Zooplankton carbon concentration',fontsize=9)\n",
    "ax1.set_ylabel('Surface Zooplankton carbon concentration',fontsize=9)\n",
    "ax.legend(fontsize=12,loc=(0.4,0.8))\n",
    "ax1.legend(fontsize=12,loc=(0.4,0.7))\n",
    "plt.savefig('plots/zooplankton_surface_and_ML.png',dpi=500)"
   ]
  },
  {
   "cell_type": "code",
   "execution_count": null,
   "id": "522173a1-2bc5-4ba3-ad88-620e9adaebf4",
   "metadata": {},
   "outputs": [
    {
     "name": "stdout",
     "output_type": "stream",
     "text": [
      "\n",
      "--> The keys in the returned dictionary of datasets are constructed as follows:\n",
      "\t'activity_id.institution_id.source_id.experiment_id.table_id.grid_label'\n"
     ]
    },
    {
     "data": {
      "text/html": [
       "\n",
       "<style>\n",
       "    /* Turns off some styling */\n",
       "    progress {\n",
       "        /* gets rid of default border in Firefox and Opera. */\n",
       "        border: none;\n",
       "        /* Needs to be in here for Safari polyfill so background images work as expected. */\n",
       "        background-size: auto;\n",
       "    }\n",
       "    progress:not([value]), progress:not([value])::-webkit-progress-bar {\n",
       "        background: repeating-linear-gradient(45deg, #7e7e7e, #7e7e7e 10px, #5c5c5c 10px, #5c5c5c 20px);\n",
       "    }\n",
       "    .progress-bar-interrupted, .progress-bar-interrupted::-webkit-progress-bar {\n",
       "        background: #F44336;\n",
       "    }\n",
       "</style>\n"
      ],
      "text/plain": [
       "<IPython.core.display.HTML object>"
      ]
     },
     "metadata": {},
     "output_type": "display_data"
    },
    {
     "data": {
      "text/html": [
       "\n",
       "    <div>\n",
       "      <progress value='1' class='' max='1' style='width:300px; height:20px; vertical-align: middle;'></progress>\n",
       "      100.00% [1/1 00:00&lt;00:00]\n",
       "    </div>\n",
       "    "
      ],
      "text/plain": [
       "<IPython.core.display.HTML object>"
      ]
     },
     "metadata": {},
     "output_type": "display_data"
    }
   ],
   "source": [
    "min_lat= 65.9\n",
    "max_lat= 81.9\n",
    "min_lon= 16.6\n",
    "max_lon= 68.6\n",
    "var='zooc'\n",
    "cel_type='areacello'\n",
    "model= 'NorESM2-LM'\n",
    "\n",
    "files_dir='/escience2022/Ada/monthly/zooc_Omon_NorESM2-LM_historical_r1i1p1f1_gr_*.nc'\n",
    "\n",
    "inp_dms=[files_dir,model,min_lat,max_lat,min_lon,max_lon,var,cel_type]\n",
    "\n",
    "BSDMS=md.regional_average(inp_dms)\n",
    "\n",
    "BSDMS.plot(x='year')\n",
    "plt.title('')\n",
    "plt.grid('True',alpha=0.6,linestyle='--')\n",
    "plt.xlabel('years',fontsize=12)\n",
    "plt.ylabel('DMS at Ocean Surface',fontsize=12)\n",
    "#plt.savefig('plots/DMS_at_surface_timeseries.png',dpi=500)"
   ]
  },
  {
   "cell_type": "code",
   "execution_count": null,
   "id": "f5accf25-7156-45cd-9574-dd4b3a4ffff2",
   "metadata": {},
   "outputs": [],
   "source": [
    "##Anomaly at each grid point"
   ]
  },
  {
   "cell_type": "code",
   "execution_count": null,
   "id": "da004197-ebc1-4710-a88b-b205d5bd90bd",
   "metadata": {},
   "outputs": [],
   "source": [
    "## Sea ICE"
   ]
  },
  {
   "cell_type": "code",
   "execution_count": null,
   "id": "1e44a271-0222-4142-8b82-5f8a2ee7c3f0",
   "metadata": {},
   "outputs": [],
   "source": []
  }
 ],
 "metadata": {
  "kernelspec": {
   "display_name": "Python 3 (ipykernel)",
   "language": "python",
   "name": "python3"
  },
  "language_info": {
   "codemirror_mode": {
    "name": "ipython",
    "version": 3
   },
   "file_extension": ".py",
   "mimetype": "text/x-python",
   "name": "python",
   "nbconvert_exporter": "python",
   "pygments_lexer": "ipython3",
   "version": "3.9.13"
  }
 },
 "nbformat": 4,
 "nbformat_minor": 5
}
