{
 "cells": [
  {
   "cell_type": "code",
   "execution_count": null,
   "id": "b9a45283-d7c9-4a71-8614-f50a5df6bdd2",
   "metadata": {},
   "outputs": [],
   "source": [
    "##module to get timeseries of the regional average of a variable"
   ]
  },
  {
   "cell_type": "code",
   "execution_count": 1,
   "id": "2662e831-967c-42f4-9fd6-27ad0f6e2a99",
   "metadata": {},
   "outputs": [],
   "source": [
    "import modules as md \n",
    "import xarray as xr\n",
    "xr.set_options(display_style='html')\n",
    "import intake\n",
    "import cftime\n",
    "import numpy as np\n",
    "import matplotlib.pyplot as plt\n",
    "import cartopy.crs as ccrs\n",
    "import s3fs\n",
    "%matplotlib inline"
   ]
  },
  {
   "cell_type": "code",
   "execution_count": 2,
   "id": "b565fb79-7f13-4a24-a2d4-d07029f7c7ea",
   "metadata": {},
   "outputs": [
    {
     "name": "stdout",
     "output_type": "stream",
     "text": [
      "\n",
      "--> The keys in the returned dictionary of datasets are constructed as follows:\n",
      "\t'activity_id.institution_id.source_id.experiment_id.table_id.grid_label'\n"
     ]
    },
    {
     "data": {
      "text/html": [
       "\n",
       "<style>\n",
       "    /* Turns off some styling */\n",
       "    progress {\n",
       "        /* gets rid of default border in Firefox and Opera. */\n",
       "        border: none;\n",
       "        /* Needs to be in here for Safari polyfill so background images work as expected. */\n",
       "        background-size: auto;\n",
       "    }\n",
       "    progress:not([value]), progress:not([value])::-webkit-progress-bar {\n",
       "        background: repeating-linear-gradient(45deg, #7e7e7e, #7e7e7e 10px, #5c5c5c 10px, #5c5c5c 20px);\n",
       "    }\n",
       "    .progress-bar-interrupted, .progress-bar-interrupted::-webkit-progress-bar {\n",
       "        background: #F44336;\n",
       "    }\n",
       "</style>\n"
      ],
      "text/plain": [
       "<IPython.core.display.HTML object>"
      ]
     },
     "metadata": {},
     "output_type": "display_data"
    },
    {
     "data": {
      "text/html": [
       "\n",
       "    <div>\n",
       "      <progress value='1' class='' max='1' style='width:300px; height:20px; vertical-align: middle;'></progress>\n",
       "      100.00% [1/1 00:00&lt;00:00]\n",
       "    </div>\n",
       "    "
      ],
      "text/plain": [
       "<IPython.core.display.HTML object>"
      ]
     },
     "metadata": {},
     "output_type": "display_data"
    },
    {
     "ename": "TypeError",
     "evalue": "unsupported operand type(s) for *: 'method' and 'float'",
     "output_type": "error",
     "traceback": [
      "\u001b[0;31m---------------------------------------------------------------------------\u001b[0m",
      "\u001b[0;31mTypeError\u001b[0m                                 Traceback (most recent call last)",
      "Input \u001b[0;32mIn [2]\u001b[0m, in \u001b[0;36m<cell line: 34>\u001b[0;34m()\u001b[0m\n\u001b[1;32m     31\u001b[0m var\u001b[38;5;241m=\u001b[39m\u001b[38;5;124m'\u001b[39m\u001b[38;5;124mtos\u001b[39m\u001b[38;5;124m'\u001b[39m\n\u001b[1;32m     32\u001b[0m model\u001b[38;5;241m=\u001b[39m \u001b[38;5;124m'\u001b[39m\u001b[38;5;124mNorESM2-LM\u001b[39m\u001b[38;5;124m'\u001b[39m\n\u001b[0;32m---> 34\u001b[0m BSsst\u001b[38;5;241m=\u001b[39m\u001b[43mregional_average\u001b[49m\u001b[43m(\u001b[49m\u001b[43mmodel\u001b[49m\u001b[43m,\u001b[49m\u001b[43mmin_lat\u001b[49m\u001b[43m,\u001b[49m\u001b[43mmax_lat\u001b[49m\u001b[43m,\u001b[49m\u001b[43mmin_lon\u001b[49m\u001b[43m,\u001b[49m\u001b[43mmax_lon\u001b[49m\u001b[43m,\u001b[49m\u001b[43mvar\u001b[49m\u001b[43m)\u001b[49m\n\u001b[1;32m     35\u001b[0m BSsst\u001b[38;5;241m.\u001b[39mmean(dim\u001b[38;5;241m=\u001b[39m\u001b[38;5;124m'\u001b[39m\u001b[38;5;124myear\u001b[39m\u001b[38;5;124m'\u001b[39m)\u001b[38;5;241m.\u001b[39mplot\u001b[38;5;241m.\u001b[39mcontourf()\n",
      "Input \u001b[0;32mIn [2]\u001b[0m, in \u001b[0;36mregional_average\u001b[0;34m(model, min_lat, max_lat, min_lon, max_lon, var)\u001b[0m\n\u001b[1;32m     18\u001b[0m np\u001b[38;5;241m.\u001b[39mtesting\u001b[38;5;241m.\u001b[39massert_allclose(weights\u001b[38;5;241m.\u001b[39mgroupby(\u001b[38;5;124m\"\u001b[39m\u001b[38;5;124mtime.year\u001b[39m\u001b[38;5;124m\"\u001b[39m)\u001b[38;5;241m.\u001b[39msum()\u001b[38;5;241m.\u001b[39mvalues, np\u001b[38;5;241m.\u001b[39mones(\u001b[38;5;28mlen\u001b[39m(np\u001b[38;5;241m.\u001b[39munique(ds\u001b[38;5;241m.\u001b[39mtime\u001b[38;5;241m.\u001b[39mdt\u001b[38;5;241m.\u001b[39myear))))\n\u001b[1;32m     19\u001b[0m \u001b[38;5;66;03m# Calculate the weighted average:\u001b[39;00m\n\u001b[0;32m---> 20\u001b[0m da \u001b[38;5;241m=\u001b[39m (\u001b[43mds\u001b[49m\u001b[38;5;241;43m.\u001b[39;49m\u001b[43mvar\u001b[49m\u001b[43m \u001b[49m\u001b[38;5;241;43m*\u001b[39;49m\u001b[43m \u001b[49m\u001b[43mweights\u001b[49m)\u001b[38;5;241m.\u001b[39mgroupby(\u001b[38;5;124m\"\u001b[39m\u001b[38;5;124mtime.year\u001b[39m\u001b[38;5;124m\"\u001b[39m)\u001b[38;5;241m.\u001b[39msum(dim\u001b[38;5;241m=\u001b[39m\u001b[38;5;124m\"\u001b[39m\u001b[38;5;124mtime\u001b[39m\u001b[38;5;124m\"\u001b[39m)\n\u001b[1;32m     21\u001b[0m da \u001b[38;5;241m=\u001b[39m da\u001b[38;5;241m.\u001b[39misel(year \u001b[38;5;241m=\u001b[39m \u001b[38;5;28mslice\u001b[39m(\u001b[38;5;241m10\u001b[39m,\u001b[38;5;28;01mNone\u001b[39;00m))\n\u001b[1;32m     23\u001b[0m BSsst \u001b[38;5;241m=\u001b[39m da\u001b[38;5;241m.\u001b[39mwhere((da\u001b[38;5;241m.\u001b[39mlatitude\u001b[38;5;241m>\u001b[39m\u001b[38;5;241m=\u001b[39mmin_lat) \u001b[38;5;241m&\u001b[39m (da\u001b[38;5;241m.\u001b[39mlatitude\u001b[38;5;241m<\u001b[39m\u001b[38;5;241m=\u001b[39mmax_lat) \u001b[38;5;241m&\u001b[39m (da\u001b[38;5;241m.\u001b[39mlongitude \u001b[38;5;241m<\u001b[39m\u001b[38;5;241m=\u001b[39m min_lon)  \u001b[38;5;241m&\u001b[39m (da\u001b[38;5;241m.\u001b[39mlongitude \u001b[38;5;241m>\u001b[39m\u001b[38;5;241m=\u001b[39m max_lon))\n",
      "File \u001b[0;32m/srv/conda/envs/notebook/lib/python3.9/site-packages/xarray/core/_typed_ops.py:260\u001b[0m, in \u001b[0;36mDataArrayOpsMixin.__rmul__\u001b[0;34m(self, other)\u001b[0m\n\u001b[1;32m    259\u001b[0m \u001b[38;5;28;01mdef\u001b[39;00m \u001b[38;5;21m__rmul__\u001b[39m(\u001b[38;5;28mself\u001b[39m, other):\n\u001b[0;32m--> 260\u001b[0m     \u001b[38;5;28;01mreturn\u001b[39;00m \u001b[38;5;28;43mself\u001b[39;49m\u001b[38;5;241;43m.\u001b[39;49m\u001b[43m_binary_op\u001b[49m\u001b[43m(\u001b[49m\u001b[43mother\u001b[49m\u001b[43m,\u001b[49m\u001b[43m \u001b[49m\u001b[43moperator\u001b[49m\u001b[38;5;241;43m.\u001b[39;49m\u001b[43mmul\u001b[49m\u001b[43m,\u001b[49m\u001b[43m \u001b[49m\u001b[43mreflexive\u001b[49m\u001b[38;5;241;43m=\u001b[39;49m\u001b[38;5;28;43;01mTrue\u001b[39;49;00m\u001b[43m)\u001b[49m\n",
      "File \u001b[0;32m/srv/conda/envs/notebook/lib/python3.9/site-packages/xarray/core/dataarray.py:3532\u001b[0m, in \u001b[0;36mDataArray._binary_op\u001b[0;34m(self, other, f, reflexive)\u001b[0m\n\u001b[1;32m   3526\u001b[0m other_variable \u001b[38;5;241m=\u001b[39m \u001b[38;5;28mgetattr\u001b[39m(other, \u001b[38;5;124m\"\u001b[39m\u001b[38;5;124mvariable\u001b[39m\u001b[38;5;124m\"\u001b[39m, other)\n\u001b[1;32m   3527\u001b[0m other_coords \u001b[38;5;241m=\u001b[39m \u001b[38;5;28mgetattr\u001b[39m(other, \u001b[38;5;124m\"\u001b[39m\u001b[38;5;124mcoords\u001b[39m\u001b[38;5;124m\"\u001b[39m, \u001b[38;5;28;01mNone\u001b[39;00m)\n\u001b[1;32m   3529\u001b[0m variable \u001b[38;5;241m=\u001b[39m (\n\u001b[1;32m   3530\u001b[0m     f(\u001b[38;5;28mself\u001b[39m\u001b[38;5;241m.\u001b[39mvariable, other_variable)\n\u001b[1;32m   3531\u001b[0m     \u001b[38;5;28;01mif\u001b[39;00m \u001b[38;5;129;01mnot\u001b[39;00m reflexive\n\u001b[0;32m-> 3532\u001b[0m     \u001b[38;5;28;01melse\u001b[39;00m \u001b[43mf\u001b[49m\u001b[43m(\u001b[49m\u001b[43mother_variable\u001b[49m\u001b[43m,\u001b[49m\u001b[43m \u001b[49m\u001b[38;5;28;43mself\u001b[39;49m\u001b[38;5;241;43m.\u001b[39;49m\u001b[43mvariable\u001b[49m\u001b[43m)\u001b[49m\n\u001b[1;32m   3533\u001b[0m )\n\u001b[1;32m   3534\u001b[0m coords, indexes \u001b[38;5;241m=\u001b[39m \u001b[38;5;28mself\u001b[39m\u001b[38;5;241m.\u001b[39mcoords\u001b[38;5;241m.\u001b[39m_merge_raw(other_coords, reflexive)\n\u001b[1;32m   3535\u001b[0m name \u001b[38;5;241m=\u001b[39m \u001b[38;5;28mself\u001b[39m\u001b[38;5;241m.\u001b[39m_result_name(other)\n",
      "File \u001b[0;32m/srv/conda/envs/notebook/lib/python3.9/site-packages/xarray/core/_typed_ops.py:450\u001b[0m, in \u001b[0;36mVariableOpsMixin.__rmul__\u001b[0;34m(self, other)\u001b[0m\n\u001b[1;32m    449\u001b[0m \u001b[38;5;28;01mdef\u001b[39;00m \u001b[38;5;21m__rmul__\u001b[39m(\u001b[38;5;28mself\u001b[39m, other):\n\u001b[0;32m--> 450\u001b[0m     \u001b[38;5;28;01mreturn\u001b[39;00m \u001b[38;5;28;43mself\u001b[39;49m\u001b[38;5;241;43m.\u001b[39;49m\u001b[43m_binary_op\u001b[49m\u001b[43m(\u001b[49m\u001b[43mother\u001b[49m\u001b[43m,\u001b[49m\u001b[43m \u001b[49m\u001b[43moperator\u001b[49m\u001b[38;5;241;43m.\u001b[39;49m\u001b[43mmul\u001b[49m\u001b[43m,\u001b[49m\u001b[43m \u001b[49m\u001b[43mreflexive\u001b[49m\u001b[38;5;241;43m=\u001b[39;49m\u001b[38;5;28;43;01mTrue\u001b[39;49;00m\u001b[43m)\u001b[49m\n",
      "File \u001b[0;32m/srv/conda/envs/notebook/lib/python3.9/site-packages/xarray/core/variable.py:2519\u001b[0m, in \u001b[0;36mVariable._binary_op\u001b[0;34m(self, other, f, reflexive)\u001b[0m\n\u001b[1;32m   2516\u001b[0m attrs \u001b[38;5;241m=\u001b[39m \u001b[38;5;28mself\u001b[39m\u001b[38;5;241m.\u001b[39m_attrs \u001b[38;5;28;01mif\u001b[39;00m keep_attrs \u001b[38;5;28;01melse\u001b[39;00m \u001b[38;5;28;01mNone\u001b[39;00m\n\u001b[1;32m   2517\u001b[0m \u001b[38;5;28;01mwith\u001b[39;00m np\u001b[38;5;241m.\u001b[39merrstate(\u001b[38;5;28mall\u001b[39m\u001b[38;5;241m=\u001b[39m\u001b[38;5;124m\"\u001b[39m\u001b[38;5;124mignore\u001b[39m\u001b[38;5;124m\"\u001b[39m):\n\u001b[1;32m   2518\u001b[0m     new_data \u001b[38;5;241m=\u001b[39m (\n\u001b[0;32m-> 2519\u001b[0m         f(self_data, other_data) \u001b[38;5;28;01mif\u001b[39;00m \u001b[38;5;129;01mnot\u001b[39;00m reflexive \u001b[38;5;28;01melse\u001b[39;00m \u001b[43mf\u001b[49m\u001b[43m(\u001b[49m\u001b[43mother_data\u001b[49m\u001b[43m,\u001b[49m\u001b[43m \u001b[49m\u001b[43mself_data\u001b[49m\u001b[43m)\u001b[49m\n\u001b[1;32m   2520\u001b[0m     )\n\u001b[1;32m   2521\u001b[0m result \u001b[38;5;241m=\u001b[39m Variable(dims, new_data, attrs\u001b[38;5;241m=\u001b[39mattrs)\n\u001b[1;32m   2522\u001b[0m \u001b[38;5;28;01mreturn\u001b[39;00m result\n",
      "\u001b[0;31mTypeError\u001b[0m: unsupported operand type(s) for *: 'method' and 'float'"
     ]
    }
   ],
   "source": [
    "\n",
    "def regional_average(model,min_lat,max_lat,min_lon,max_lon,var):\n",
    "\n",
    "    cell_area=md.get_areacello(model,min_lat,max_lat,min_lon,max_lon)\n",
    "\n",
    "    s3 = s3fs.S3FileSystem(key=\"K1CQ7M1DMTLUFK182APD\", \n",
    "                       secret=\"3JuZAQm5I03jtpijCpHOdkAsJDNLNfZxBpM15Pi0\", client_kwargs=dict(endpoint_url=\"https://rgw.met.no\"))\n",
    "\n",
    "    files_dir='/escience2022/Ada/monthly/tos_Omon_NorESM2-LM_omip1_r1i1p1f1_gn_20*.nc'\n",
    "\n",
    "    remote_files = 's3:/'+ files_dir\n",
    "    remote_files = s3.glob(remote_files)\n",
    "    fileset = [s3.open(file) for file in remote_files]\n",
    "    ds = xr.open_mfdataset(fileset, combine='by_coords')\n",
    "    \n",
    "    month_length = ds.time.dt.days_in_month\n",
    "    weights = month_length.groupby(\"time.year\") / month_length.groupby(\"time.year\").sum()\n",
    "    # Test that the sum of the weights for each year is 1.0\n",
    "    np.testing.assert_allclose(weights.groupby(\"time.year\").sum().values, np.ones(len(np.unique(ds.time.dt.year))))\n",
    "    # Calculate the weighted average:\n",
    "    da = (ds.var * weights).groupby(\"time.year\").sum(dim=\"time\")\n",
    "    da = da.isel(year = slice(10,None))\n",
    "    \n",
    "    BSsst = da.where((da.latitude>=min_lat) & (da.latitude<=max_lat) & (da.longitude <= min_lon)  & (da.longitude >= max_lon))\n",
    "    return BSsst\n",
    "\n",
    "\n",
    "min_lat= 60\n",
    "max_lat= 90\n",
    "min_lon= 0\n",
    "max_lon= 360\n",
    "var='tos'\n",
    "model= 'NorESM2-LM'\n",
    "\n",
    "BSsst=regional_average(model,min_lat,max_lat,min_lon,max_lon,var)\n",
    "BSsst.mean(dim='year').plot.contourf()\n",
    "    \n"
   ]
  },
  {
   "cell_type": "code",
   "execution_count": null,
   "id": "e9b29720-fbb1-4ebf-86da-e98810561ac5",
   "metadata": {},
   "outputs": [],
   "source": []
  },
  {
   "cell_type": "code",
   "execution_count": null,
   "id": "82b2e2ac-1596-4289-8454-613f3d564c80",
   "metadata": {},
   "outputs": [],
   "source": []
  }
 ],
 "metadata": {
  "kernelspec": {
   "display_name": "Python 3 (ipykernel)",
   "language": "python",
   "name": "python3"
  },
  "language_info": {
   "codemirror_mode": {
    "name": "ipython",
    "version": 3
   },
   "file_extension": ".py",
   "mimetype": "text/x-python",
   "name": "python",
   "nbconvert_exporter": "python",
   "pygments_lexer": "ipython3",
   "version": "3.9.13"
  }
 },
 "nbformat": 4,
 "nbformat_minor": 5
}
