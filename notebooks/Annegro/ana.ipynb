{
 "cells": [
  {
   "cell_type": "code",
   "execution_count": null,
   "id": "a806bf2a-4a52-4d4e-b8c3-278a3b02477e",
   "metadata": {},
   "outputs": [],
   "source": [
    "import xarray as xr\n",
    "xr.set_options(display_style='html')\n",
    "import intake\n",
    "import cftime\n",
    "import numpy as np\n",
    "import matplotlib.pyplot as plt\n",
    "import cartopy.crs as ccrs\n",
    "import s3fs\n",
    "%matplotlib inline\n",
    "\n",
    "import cartopy as cy\n",
    "import cartopy.crs as ccrs\n",
    "from matplotlib.colors import LogNorm"
   ]
  },
  {
   "cell_type": "code",
   "execution_count": 2,
   "id": "cda98dcd-6fa5-407a-8f6f-77d2603c44cd",
   "metadata": {},
   "outputs": [],
   "source": [
    "s3 = s3fs.S3FileSystem(key=\"K1CQ7M1DMTLUFK182APD\", secret=\"3JuZAQm5I03jtpijCpHOdkAsJDNLNfZxBpM15Pi0\", client_kwargs=dict(endpoint_url=\"https://rgw.met.no\"))"
   ]
  },
  {
   "cell_type": "code",
   "execution_count": 3,
   "id": "e499a5f1-fe9f-4148-8857-19ed85940019",
   "metadata": {},
   "outputs": [
    {
     "data": {
      "text/html": [
       "<div>\n",
       "<style scoped>\n",
       "    .dataframe tbody tr th:only-of-type {\n",
       "        vertical-align: middle;\n",
       "    }\n",
       "\n",
       "    .dataframe tbody tr th {\n",
       "        vertical-align: top;\n",
       "    }\n",
       "\n",
       "    .dataframe thead th {\n",
       "        text-align: right;\n",
       "    }\n",
       "</style>\n",
       "<table border=\"1\" class=\"dataframe\">\n",
       "  <thead>\n",
       "    <tr style=\"text-align: right;\">\n",
       "      <th></th>\n",
       "      <th>activity_id</th>\n",
       "      <th>institution_id</th>\n",
       "      <th>source_id</th>\n",
       "      <th>experiment_id</th>\n",
       "      <th>member_id</th>\n",
       "      <th>table_id</th>\n",
       "      <th>variable_id</th>\n",
       "      <th>grid_label</th>\n",
       "      <th>zstore</th>\n",
       "      <th>dcpp_init_year</th>\n",
       "      <th>version</th>\n",
       "    </tr>\n",
       "  </thead>\n",
       "  <tbody>\n",
       "    <tr>\n",
       "      <th>0</th>\n",
       "      <td>CMIP</td>\n",
       "      <td>NCC</td>\n",
       "      <td>NorESM2-LM</td>\n",
       "      <td>piControl</td>\n",
       "      <td>r1i1p1f1</td>\n",
       "      <td>Ofx</td>\n",
       "      <td>areacello</td>\n",
       "      <td>gn</td>\n",
       "      <td>gs://cmip6/CMIP6/CMIP/NCC/NorESM2-LM/piControl...</td>\n",
       "      <td>NaN</td>\n",
       "      <td>20210118</td>\n",
       "    </tr>\n",
       "  </tbody>\n",
       "</table>\n",
       "</div>"
      ],
      "text/plain": [
       "  activity_id institution_id   source_id experiment_id member_id table_id  \\\n",
       "0        CMIP            NCC  NorESM2-LM     piControl  r1i1p1f1      Ofx   \n",
       "\n",
       "  variable_id grid_label                                             zstore  \\\n",
       "0   areacello         gn  gs://cmip6/CMIP6/CMIP/NCC/NorESM2-LM/piControl...   \n",
       "\n",
       "   dcpp_init_year   version  \n",
       "0             NaN  20210118  "
      ]
     },
     "execution_count": 3,
     "metadata": {},
     "output_type": "execute_result"
    }
   ],
   "source": [
    "cat_url = \"https://storage.googleapis.com/cmip6/pangeo-cmip6.json\"\n",
    "col = intake.open_esm_datastore(cat_url)\n",
    "cat = col.search(source_id=['NorESM2-LM'], activity_id = ['CMIP'], experiment_id=['piControl'], table_id=['Ofx'], variable_id=['areacello'], member_id=['r1i1p1f1'])\n",
    "cat.df"
   ]
  },
  {
   "cell_type": "code",
   "execution_count": 4,
   "id": "fb53a94a-1af8-48b5-9177-96d79fb7b3b1",
   "metadata": {},
   "outputs": [
    {
     "name": "stdout",
     "output_type": "stream",
     "text": [
      "\n",
      "--> The keys in the returned dictionary of datasets are constructed as follows:\n",
      "\t'activity_id.institution_id.source_id.experiment_id.table_id.grid_label'\n"
     ]
    },
    {
     "data": {
      "text/html": [
       "\n",
       "<style>\n",
       "    /* Turns off some styling */\n",
       "    progress {\n",
       "        /* gets rid of default border in Firefox and Opera. */\n",
       "        border: none;\n",
       "        /* Needs to be in here for Safari polyfill so background images work as expected. */\n",
       "        background-size: auto;\n",
       "    }\n",
       "    progress:not([value]), progress:not([value])::-webkit-progress-bar {\n",
       "        background: repeating-linear-gradient(45deg, #7e7e7e, #7e7e7e 10px, #5c5c5c 10px, #5c5c5c 20px);\n",
       "    }\n",
       "    .progress-bar-interrupted, .progress-bar-interrupted::-webkit-progress-bar {\n",
       "        background: #F44336;\n",
       "    }\n",
       "</style>\n"
      ],
      "text/plain": [
       "<IPython.core.display.HTML object>"
      ]
     },
     "metadata": {},
     "output_type": "display_data"
    },
    {
     "data": {
      "text/html": [
       "\n",
       "    <div>\n",
       "      <progress value='1' class='' max='1' style='width:300px; height:20px; vertical-align: middle;'></progress>\n",
       "      100.00% [1/1 00:00&lt;00:00]\n",
       "    </div>\n",
       "    "
      ],
      "text/plain": [
       "<IPython.core.display.HTML object>"
      ]
     },
     "metadata": {},
     "output_type": "display_data"
    }
   ],
   "source": [
    "ds_dict = cat.to_dataset_dict(zarr_kwargs={'use_cftime':True})"
   ]
  },
  {
   "cell_type": "code",
   "execution_count": 5,
   "id": "3becd7ff-9391-49b7-832d-d852614453d5",
   "metadata": {},
   "outputs": [],
   "source": [
    "areacello = ds_dict[list(ds_dict.keys())[0]]"
   ]
  },
  {
   "cell_type": "code",
   "execution_count": 6,
   "id": "c731ff22-d295-488a-921f-014d6f22e517",
   "metadata": {},
   "outputs": [],
   "source": [
    "areacello = areacello.squeeze()"
   ]
  },
  {
   "cell_type": "code",
   "execution_count": 7,
   "id": "645cb3f5-6436-46c4-8859-8adb428a4ee5",
   "metadata": {},
   "outputs": [],
   "source": [
    "BSarea = areacello.areacello.where(areacello.latitude>66)"
   ]
  },
  {
   "cell_type": "markdown",
   "id": "06adb222-2431-46dd-8815-dfd0390849c1",
   "metadata": {},
   "source": [
    "Data seaice:"
   ]
  },
  {
   "cell_type": "code",
   "execution_count": 8,
   "id": "b6c7b06c-3e04-4a8e-854e-0e6e1999f849",
   "metadata": {},
   "outputs": [],
   "source": [
    "R_fSI='s3://escience2022/Ada/monthly/siconc_SImon_NorESM2-LM_omip1_r1i1p1f1_gn_20*.nc'\n",
    "R_fSI=s3.glob(R_fSI)\n",
    "\n",
    "R_fSIi='s3://escience2022/Ada/monthly/siconc_SImon_NorESM2-LM_omip1_r1i1p1f1_gn_19*.nc'\n",
    "R_fSIi=s3.glob(R_fSIi)"
   ]
  },
  {
   "cell_type": "code",
   "execution_count": 9,
   "id": "bec9dc0e-8e31-49b3-aa5d-10e407b0ebfc",
   "metadata": {},
   "outputs": [],
   "source": [
    "fileset = [s3.open(file) for file in R_fSI]\n",
    "dSI = xr.open_mfdataset(fileset, combine='by_coords')\n",
    "\n",
    "fileset = [s3.open(file) for file in R_fSIi]\n",
    "dSIi = xr.open_mfdataset(fileset, combine='by_coords')"
   ]
  },
  {
   "cell_type": "markdown",
   "id": "b3280ed5-a508-4316-b5d0-8ce67be9bfb2",
   "metadata": {},
   "source": [
    "Data plankton:"
   ]
  },
  {
   "cell_type": "code",
   "execution_count": 10,
   "id": "6575a48e-087f-48cf-a162-49739ea0a7f9",
   "metadata": {},
   "outputs": [],
   "source": [
    "R_ch20='s3://escience2022/Ada/monthly/chlos_Omon_NorESM2-LM_omip1_r1i1p1f1_gn_20*.nc'\n",
    "R_ch20=s3.glob(R_ch20)\n",
    "\n",
    "R_ch19='s3://escience2022/Ada/monthly/chlos_Omon_NorESM2-LM_omip1_r1i1p1f1_gn_19*.nc'\n",
    "R_ch19=s3.glob(R_ch19)"
   ]
  },
  {
   "cell_type": "code",
   "execution_count": 11,
   "id": "4cca75db-4c06-47c6-9700-c1c4f35572f6",
   "metadata": {},
   "outputs": [],
   "source": [
    "fileset = [s3.open(file) for file in R_ch20]\n",
    "dch20 = xr.open_mfdataset(fileset, combine='by_coords')\n",
    "\n",
    "fileset = [s3.open(file) for file in R_ch19]\n",
    "dch19 = xr.open_mfdataset(fileset, combine='by_coords')"
   ]
  },
  {
   "cell_type": "markdown",
   "id": "c4ed28b5-fff7-4155-bb96-e7aa96eb3295",
   "metadata": {},
   "source": [
    "Radiation: "
   ]
  },
  {
   "cell_type": "code",
   "execution_count": 12,
   "id": "4bbf9e14-b4e1-4ed4-a59b-12f5c023e237",
   "metadata": {},
   "outputs": [],
   "source": [
    "R_r20='s3://escience2022/Ada/monthly/rsntds_Omon_NorESM2-LM_omip1_r1i1p1f1_gn_20*.nc'\n",
    "R_r20=s3.glob(R_r20)\n",
    "\n",
    "R_r19='s3://escience2022/Ada/monthly/rsntds_Omon_NorESM2-LM_omip1_r1i1p1f1_gn_19*.nc'\n",
    "R_r19=s3.glob(R_r19)"
   ]
  },
  {
   "cell_type": "code",
   "execution_count": null,
   "id": "dfd6c5aa-ed20-450a-87ac-366b7e3cb20f",
   "metadata": {},
   "outputs": [],
   "source": [
    "fileset = [s3.open(file) for file in R_r20]\n",
    "r20= xr.open_mfdataset(fileset, combine='by_coords')\n",
    "\n",
    "fileset = [s3.open(file) for file in R_r19]\n",
    "r19 = xr.open_mfdataset(fileset, combine='by_coords')"
   ]
  },
  {
   "cell_type": "markdown",
   "id": "f8c86b62-1a8d-4e9b-9b81-1f0d5a7da3ba",
   "metadata": {},
   "source": [
    "Zooplankton:"
   ]
  },
  {
   "cell_type": "code",
   "execution_count": null,
   "id": "785b2e26-0b05-4d6c-886e-e15e57a8299d",
   "metadata": {},
   "outputs": [],
   "source": [
    "R_z19='s3://escience2022/Ada/monthly/zoocos_Omon_NorESM2-LM_omip1_r1i1p1f1_gr_19*.nc'\n",
    "R_z19=s3.glob(R_z19)\n",
    "\n",
    "R_z20='s3://escience2022/Ada/monthly/zoocos_Omon_NorESM2-LM_omip1_r1i1p1f1_gr_20*.nc'\n",
    "R_z20=s3.glob(R_z20)"
   ]
  },
  {
   "cell_type": "code",
   "execution_count": null,
   "id": "2ad17006-eff7-4742-b8e0-c7810ce4abb3",
   "metadata": {},
   "outputs": [],
   "source": [
    "fileset = [s3.open(file) for file in R_z19]\n",
    "z19 = xr.open_mfdataset(fileset, combine='by_coords')\n",
    "\n",
    "fileset = [s3.open(file) for file in R_z20]\n",
    "z20 = xr.open_mfdataset(fileset, combine='by_coords')"
   ]
  },
  {
   "cell_type": "markdown",
   "id": "ff814a0f-5a0e-413e-9d7b-7344251ce820",
   "metadata": {},
   "source": [
    "## Anamoly "
   ]
  },
  {
   "cell_type": "markdown",
   "id": "26e1b32c-1893-480d-97ca-6c7afdab7399",
   "metadata": {},
   "source": [
    "Seaice: "
   ]
  },
  {
   "cell_type": "code",
   "execution_count": null,
   "id": "e8dcff60-9d71-470c-b2d8-7c2fc2511391",
   "metadata": {},
   "outputs": [],
   "source": [
    "d20= dSI.sel(time=slice('2000-01-01','2020-12-01')).groupby('time.month').mean(dim='time')\n",
    "d19 = dSIi.sel(time=slice('1900-01-01','1920-12-01')).groupby('time.month').mean(dim='time')\n",
    "anm = (d20.groupby('month') - d19)\n",
    "anm = anm.where((d19.latitude>66))\n",
    "anm = (BSarea*anm).sum(dim=('i','j'))/BSarea.sum(dim=('i','j'))\n",
    "anm.plot.scatter(x='month', y='siconc')\n",
    "plt.grid()\n",
    "plt.title('Anamoly between sea ice consentration 1900-1920 and 2000-2020')"
   ]
  },
  {
   "cell_type": "code",
   "execution_count": null,
   "id": "b6b8b59a-b342-4291-a3b1-b865f8c305a6",
   "metadata": {},
   "outputs": [],
   "source": [
    "p20= dch20.sel(time=slice('2000-01-01','2020-12-01')).groupby('time.month').mean(dim='time')\n",
    "p19 = dch19.sel(time=slice('1900-01-01','1920-12-01')).groupby('time.month').mean(dim='time')\n",
    "anmC = (p20.groupby('month') - p19)\n",
    "anmC = anmC.where((dch19.latitude>66))\n",
    "anmC = (BSarea*anmC).sum(dim=('i','j'))/BSarea.sum(dim=('i','j'))\n",
    "anmC.plot.scatter(x='month', y='chlos', color='g')\n",
    "plt.grid()\n",
    "plt.title('Anamoly between phytoplankton consentration 1900-1920 and 2000-2020')"
   ]
  },
  {
   "cell_type": "code",
   "execution_count": null,
   "id": "81a7e359-0770-4788-befa-b9092261e023",
   "metadata": {},
   "outputs": [],
   "source": [
    "ra20= r20.sel(time=slice('2000-01-01','2020-12-01')).groupby('time.month').mean(dim='time')\n",
    "ra19 = r19.sel(time=slice('1900-01-01','1920-12-01')).groupby('time.month').mean(dim='time')\n",
    "anmR = (ra20.groupby('month') - ra19)\n",
    "anmR = anmR.where((ra19.latitude>66))\n",
    "anmR = (BSarea*anmR).sum(dim=('i','j'))/BSarea.sum(dim=('i','j'))\n",
    "anmR.plot.scatter(x='month', y='rsntds', color='r')\n",
    "plt.grid()\n",
    "plt.title('Anamoly downward radiation 1900-1920 and 2000-2020')"
   ]
  },
  {
   "cell_type": "code",
   "execution_count": null,
   "id": "e568f076-a30e-4e6e-a07e-8a6d8d4ad491",
   "metadata": {},
   "outputs": [],
   "source": [
    "za20= z20.sel(time=slice('2000-01-01','2020-12-01')).groupby('time.month').mean(dim='time')\n",
    "za19 = z19.sel(time=slice('1900-01-01','1920-12-01')).groupby('time.month').mean(dim='time')\n",
    "anmZ = (za20.groupby('month') - za19)\n",
    "anmZ = anmZ.where((za19.latitude>66))\n",
    "anmZ = (BSarea*anmZ).sum(dim=('i','j'))/BSarea.sum(dim=('i','j'))\n",
    "anmZ.plot.scatter(x='month', y='zoocos', color='r')\n",
    "plt.grid()\n",
    "plt.title('Change in zooplankton 1900-1920 and 2000-2020')"
   ]
  },
  {
   "cell_type": "code",
   "execution_count": null,
   "id": "729f52de-5691-43e0-bcf0-2f345d12368e",
   "metadata": {},
   "outputs": [],
   "source": [
    "anmR.plot.scatter(x='month', y='rsntds', color='r', label='Radiation')\n",
    "anm.plot.scatter(x='month', y='siconc', label='Sea ice')\n",
    "plt.grid()\n",
    "plt.ylabel('y')\n",
    "plt.legend()"
   ]
  },
  {
   "cell_type": "code",
   "execution_count": null,
   "id": "4665abc9-5516-42fd-8c1d-6297e622ac9b",
   "metadata": {},
   "outputs": [],
   "source": [
    "anmC.plot.scatter(x='month', y='chlos',color='g', label='Phytoplankton')\n",
    "anmZ.plot.scatter(x='month', y='zoocos', color='r', label='Zooplankton')\n",
    "plt.grid()\n",
    "plt.legend()"
   ]
  },
  {
   "cell_type": "code",
   "execution_count": null,
   "id": "dd26c1f7-9cc7-4a68-935c-e26371e5f6ee",
   "metadata": {},
   "outputs": [],
   "source": []
  }
 ],
 "metadata": {
  "kernelspec": {
   "display_name": "Python 3 (ipykernel)",
   "language": "python",
   "name": "python3"
  },
  "language_info": {
   "codemirror_mode": {
    "name": "ipython",
    "version": 3
   },
   "file_extension": ".py",
   "mimetype": "text/x-python",
   "name": "python",
   "nbconvert_exporter": "python",
   "pygments_lexer": "ipython3",
   "version": "3.9.13"
  }
 },
 "nbformat": 4,
 "nbformat_minor": 5
}
